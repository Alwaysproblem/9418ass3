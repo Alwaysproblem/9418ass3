{
 "cells": [
  {
   "cell_type": "code",
   "execution_count": 46,
   "metadata": {},
   "outputs": [],
   "source": [
    "import gpflow\n",
    "import tensorflow as tf\n",
    "import matplotlib\n",
    "import numpy as np\n",
    "import matplotlib.pyplot as plt\n",
    "plt.style.use('ggplot')\n",
    "%matplotlib inline"
   ]
  },
  {
   "cell_type": "code",
   "execution_count": 47,
   "metadata": {},
   "outputs": [
    {
     "data": {
      "text/plain": [
       "[<matplotlib.lines.Line2D at 0x1a9ba1d0b38>,\n",
       " <matplotlib.lines.Line2D at 0x1a9ba1d05c0>,\n",
       " <matplotlib.lines.Line2D at 0x1a9ba1d0588>]"
      ]
     },
     "execution_count": 47,
     "metadata": {},
     "output_type": "execute_result"
    },
    {
     "data": {
      "image/png": "[encoded data removed]",
      "text/plain": [
       "<Figure size 864x432 with 1 Axes>"
      ]
     },
     "metadata": {
      "needs_background": "light"
     },
     "output_type": "display_data"
    }
   ],
   "source": [
    "#make a one dimensional classification problem\n",
    "np.random.seed(1)\n",
    "X = np.random.rand(100,1)\n",
    "K = np.exp(-0.5*np.square(X - X.T)/0.01) + np.eye(100)*1e-6\n",
    "f = np.dot(np.linalg.cholesky(K), np.random.randn(100,3))\n",
    "\n",
    "plt.figure(figsize=(12,6))\n",
    "plt.plot(X, f, '*')"
   ]
  },
  {
   "cell_type": "code",
   "execution_count": 48,
   "metadata": {},
   "outputs": [],
   "source": [
    "Y = np.array(np.argmax(f, 1).reshape(-1,1), dtype=float)\n",
    "# print(X)\n",
    "# X[::5]"
   ]
  },
  {
   "cell_type": "code",
   "execution_count": 49,
   "metadata": {},
   "outputs": [
    {
     "data": {
      "text/html": [
       "<div>\n",
       "<style scoped>\n",
       "    .dataframe tbody tr th:only-of-type {\n",
       "        vertical-align: middle;\n",
       "    }\n",
       "\n",
       "    .dataframe tbody tr th {\n",
       "        vertical-align: top;\n",
       "    }\n",
       "\n",
       "    .dataframe thead th {\n",
       "        text-align: right;\n",
       "    }\n",
       "</style>\n",
       "<table border=\"1\" class=\"dataframe\">\n",
       "  <thead>\n",
       "    <tr style=\"text-align: right;\">\n",
       "      <th></th>\n",
       "      <th>class</th>\n",
       "      <th>prior</th>\n",
       "      <th>transform</th>\n",
       "      <th>trainable</th>\n",
       "      <th>shape</th>\n",
       "      <th>fixed_shape</th>\n",
       "      <th>value</th>\n",
       "    </tr>\n",
       "  </thead>\n",
       "  <tbody>\n",
       "    <tr>\n",
       "      <th>SVGP/feature/Z</th>\n",
       "      <td>Parameter</td>\n",
       "      <td>None</td>\n",
       "      <td>(none)</td>\n",
       "      <td>True</td>\n",
       "      <td>(17, 1)</td>\n",
       "      <td>True</td>\n",
       "      <td>[[0.417022004702574], [0.1862602113776709], [0...</td>\n",
       "    </tr>\n",
       "    <tr>\n",
       "      <th>SVGP/kern/kernels/0/lengthscales</th>\n",
       "      <td>Parameter</td>\n",
       "      <td>None</td>\n",
       "      <td>+ve</td>\n",
       "      <td>True</td>\n",
       "      <td>()</td>\n",
       "      <td>True</td>\n",
       "      <td>1.0</td>\n",
       "    </tr>\n",
       "    <tr>\n",
       "      <th>SVGP/kern/kernels/0/variance</th>\n",
       "      <td>Parameter</td>\n",
       "      <td>None</td>\n",
       "      <td>+ve</td>\n",
       "      <td>True</td>\n",
       "      <td>()</td>\n",
       "      <td>True</td>\n",
       "      <td>1.0</td>\n",
       "    </tr>\n",
       "    <tr>\n",
       "      <th>SVGP/kern/kernels/1/variance</th>\n",
       "      <td>Parameter</td>\n",
       "      <td>None</td>\n",
       "      <td>+ve</td>\n",
       "      <td>True</td>\n",
       "      <td>()</td>\n",
       "      <td>True</td>\n",
       "      <td>0.01</td>\n",
       "    </tr>\n",
       "    <tr>\n",
       "      <th>SVGP/likelihood/invlink/epsilon</th>\n",
       "      <td>Parameter</td>\n",
       "      <td>Beta(0.2,5.0)</td>\n",
       "      <td>[0.0, 1.0]</td>\n",
       "      <td>False</td>\n",
       "      <td>()</td>\n",
       "      <td>True</td>\n",
       "      <td>0.001</td>\n",
       "    </tr>\n",
       "    <tr>\n",
       "      <th>SVGP/q_mu</th>\n",
       "      <td>Parameter</td>\n",
       "      <td>None</td>\n",
       "      <td>(none)</td>\n",
       "      <td>True</td>\n",
       "      <td>(17, 4)</td>\n",
       "      <td>True</td>\n",
       "      <td>[[0.0, 0.0, 0.0, 0.0], [0.0, 0.0, 0.0, 0.0], [...</td>\n",
       "    </tr>\n",
       "    <tr>\n",
       "      <th>SVGP/q_sqrt</th>\n",
       "      <td>Parameter</td>\n",
       "      <td>None</td>\n",
       "      <td>+ve</td>\n",
       "      <td>True</td>\n",
       "      <td>(17, 4)</td>\n",
       "      <td>True</td>\n",
       "      <td>[[1.0, 1.0, 1.0, 1.0], [1.0, 1.0, 1.0, 1.0], [...</td>\n",
       "    </tr>\n",
       "  </tbody>\n",
       "</table>\n",
       "</div>"
      ],
      "text/plain": [
       "                                      class          prior   transform  \\\n",
       "SVGP/feature/Z                    Parameter           None      (none)   \n",
       "SVGP/kern/kernels/0/lengthscales  Parameter           None         +ve   \n",
       "SVGP/kern/kernels/0/variance      Parameter           None         +ve   \n",
       "SVGP/kern/kernels/1/variance      Parameter           None         +ve   \n",
       "SVGP/likelihood/invlink/epsilon   Parameter  Beta(0.2,5.0)  [0.0, 1.0]   \n",
       "SVGP/q_mu                         Parameter           None      (none)   \n",
       "SVGP/q_sqrt                       Parameter           None         +ve   \n",
       "\n",
       "                                  trainable    shape  fixed_shape  \\\n",
       "SVGP/feature/Z                         True  (17, 1)         True   \n",
       "SVGP/kern/kernels/0/lengthscales       True       ()         True   \n",
       "SVGP/kern/kernels/0/variance           True       ()         True   \n",
       "SVGP/kern/kernels/1/variance           True       ()         True   \n",
       "SVGP/likelihood/invlink/epsilon       False       ()         True   \n",
       "SVGP/q_mu                              True  (17, 4)         True   \n",
       "SVGP/q_sqrt                            True  (17, 4)         True   \n",
       "\n",
       "                                                                              value  \n",
       "SVGP/feature/Z                    [[0.417022004702574], [0.1862602113776709], [0...  \n",
       "SVGP/kern/kernels/0/lengthscales                                                1.0  \n",
       "SVGP/kern/kernels/0/variance                                                    1.0  \n",
       "SVGP/kern/kernels/1/variance                                                   0.01  \n",
       "SVGP/likelihood/invlink/epsilon                                               0.001  \n",
       "SVGP/q_mu                         [[0.0, 0.0, 0.0, 0.0], [0.0, 0.0, 0.0, 0.0], [...  \n",
       "SVGP/q_sqrt                       [[1.0, 1.0, 1.0, 1.0], [1.0, 1.0, 1.0, 1.0], [...  "
      ]
     },
     "execution_count": 49,
     "metadata": {},
     "output_type": "execute_result"
    }
   ],
   "source": [
    "class_num = 4\n",
    "m = gpflow.models.SVGP(\n",
    "    X, Y, kern=gpflow.kernels.Matern32(1) + gpflow.kernels.White(1, variance=0.01),\n",
    "    likelihood=gpflow.likelihoods.MultiClass(class_num),\n",
    "    Z=X[::6].copy(), num_latent=class_num, whiten=True, q_diag=True)\n",
    "\n",
    "# m.kern.white.variance.trainable = False\n",
    "# m.feature.trainable = False\n",
    "m.as_pandas_table()"
   ]
  },
  {
   "cell_type": "code",
   "execution_count": 50,
   "metadata": {},
   "outputs": [
    {
     "name": "stdout",
     "output_type": "stream",
     "text": [
      "INFO:tensorflow:Optimization terminated with:\n",
      "  Message: b'STOP: TOTAL NO. of ITERATIONS REACHED LIMIT'\n",
      "  Objective function value: 80.815313\n",
      "  Number of iterations: 1000\n",
      "  Number of functions evaluations: 1171\n"
     ]
    },
    {
     "name": "stderr",
     "output_type": "stream",
     "text": [
      "INFO:tensorflow:Optimization terminated with:\n",
      "  Message: b'STOP: TOTAL NO. of ITERATIONS REACHED LIMIT'\n",
      "  Objective function value: 80.815313\n",
      "  Number of iterations: 1000\n",
      "  Number of functions evaluations: 1171\n"
     ]
    }
   ],
   "source": [
    "opt = gpflow.train.ScipyOptimizer()\n",
    "opt.minimize(m)"
   ]
  },
  {
   "cell_type": "code",
   "execution_count": 51,
   "metadata": {},
   "outputs": [],
   "source": [
    "def plot(m):\n",
    "    f = plt.figure(figsize=(12,6))\n",
    "    a1 = f.add_axes([0.05, 0.05, 0.9, 0.6])\n",
    "    a2 = f.add_axes([0.05, 0.7, 0.9, 0.1])\n",
    "    a3 = f.add_axes([0.05, 0.85, 0.9, 0.1])\n",
    "\n",
    "\n",
    "    xx = np.linspace(m.X.read_value().min(), m.X.read_value().max(), 200).reshape(-1,1)\n",
    "    mu, var = m.predict_f(xx)\n",
    "    mu, var = mu.copy(), var.copy()\n",
    "    p, _ = m.predict_y(xx)\n",
    "#     print(p)\n",
    "\n",
    "    a3.set_xticks([])\n",
    "    a3.set_yticks([])\n",
    "\n",
    "\n",
    "    a3.set_xticks([])\n",
    "    a3.set_yticks([])\n",
    "\n",
    "    for i in range(m.likelihood.num_classes - 1):\n",
    "        x = m.X.read_value()[m.Y.read_value().flatten()==i]\n",
    "        points, = a3.plot(x, x*0, '.')\n",
    "        color=points.get_color()\n",
    "#         a1.plot(xx, mu[:,i], color=color, lw=2)\n",
    "#         a1.plot(xx, mu[:,i] + 2*np.sqrt(var[:,i]), '--', color=color)\n",
    "#         a1.plot(xx, mu[:,i] - 2*np.sqrt(var[:,i]), '--', color=color)\n",
    "        a2.plot(xx, p[:,i], '-', color=color, lw=2)\n",
    "\n",
    "\n",
    "    a2.set_ylim(-0.1, 1.1)\n",
    "    a2.set_yticks([0, 1])\n",
    "    a2.set_xticks([])"
   ]
  },
  {
   "cell_type": "code",
   "execution_count": 52,
   "metadata": {},
   "outputs": [
    {
     "data": {
      "image/png": "[encoded data removed]",
      "text/plain": [
       "<Figure size 864x432 with 3 Axes>"
      ]
     },
     "metadata": {
      "needs_background": "light"
     },
     "output_type": "display_data"
    }
   ],
   "source": [
    "plot(m)"
   ]
  },
  {
   "cell_type": "code",
   "execution_count": 11,
   "metadata": {},
   "outputs": [
    {
     "data": {
      "text/html": [
       "<div>\n",
       "<style scoped>\n",
       "    .dataframe tbody tr th:only-of-type {\n",
       "        vertical-align: middle;\n",
       "    }\n",
       "\n",
       "    .dataframe tbody tr th {\n",
       "        vertical-align: top;\n",
       "    }\n",
       "\n",
       "    .dataframe thead th {\n",
       "        text-align: right;\n",
       "    }\n",
       "</style>\n",
       "<table border=\"1\" class=\"dataframe\">\n",
       "  <thead>\n",
       "    <tr style=\"text-align: right;\">\n",
       "      <th></th>\n",
       "      <th>class</th>\n",
       "      <th>prior</th>\n",
       "      <th>transform</th>\n",
       "      <th>trainable</th>\n",
       "      <th>shape</th>\n",
       "      <th>fixed_shape</th>\n",
       "      <th>value</th>\n",
       "    </tr>\n",
       "  </thead>\n",
       "  <tbody>\n",
       "    <tr>\n",
       "      <th>SVGP/kern/kernels/0/lengthscales</th>\n",
       "      <td>Parameter</td>\n",
       "      <td>None</td>\n",
       "      <td>+ve</td>\n",
       "      <td>True</td>\n",
       "      <td>()</td>\n",
       "      <td>True</td>\n",
       "      <td>0.11126064118544769</td>\n",
       "    </tr>\n",
       "    <tr>\n",
       "      <th>SVGP/kern/kernels/0/variance</th>\n",
       "      <td>Parameter</td>\n",
       "      <td>None</td>\n",
       "      <td>+ve</td>\n",
       "      <td>True</td>\n",
       "      <td>()</td>\n",
       "      <td>True</td>\n",
       "      <td>2.3905435205869376</td>\n",
       "    </tr>\n",
       "    <tr>\n",
       "      <th>SVGP/kern/kernels/1/variance</th>\n",
       "      <td>Parameter</td>\n",
       "      <td>None</td>\n",
       "      <td>+ve</td>\n",
       "      <td>True</td>\n",
       "      <td>()</td>\n",
       "      <td>True</td>\n",
       "      <td>0.0003187264686972141</td>\n",
       "    </tr>\n",
       "  </tbody>\n",
       "</table>\n",
       "</div>"
      ],
      "text/plain": [
       "                                      class prior transform  trainable shape  \\\n",
       "SVGP/kern/kernels/0/lengthscales  Parameter  None       +ve       True    ()   \n",
       "SVGP/kern/kernels/0/variance      Parameter  None       +ve       True    ()   \n",
       "SVGP/kern/kernels/1/variance      Parameter  None       +ve       True    ()   \n",
       "\n",
       "                                  fixed_shape                  value  \n",
       "SVGP/kern/kernels/0/lengthscales         True    0.11126064118544769  \n",
       "SVGP/kern/kernels/0/variance             True     2.3905435205869376  \n",
       "SVGP/kern/kernels/1/variance             True  0.0003187264686972141  "
      ]
     },
     "execution_count": 11,
     "metadata": {},
     "output_type": "execute_result"
    }
   ],
   "source": [
    "m.kern.as_pandas_table()"
   ]
  },
  {
   "cell_type": "code",
   "execution_count": null,
   "metadata": {},
   "outputs": [],
   "source": []
  }
 ],
 "metadata": {
  "kernelspec": {
   "display_name": "Python 3",
   "language": "python",
   "name": "python3"
  },
  "language_info": {
   "codemirror_mode": {
    "name": "ipython",
    "version": 3
   },
   "file_extension": ".py",
   "mimetype": "text/x-python",
   "name": "python",
   "nbconvert_exporter": "python",
   "pygments_lexer": "ipython3",
   "version": "3.6.6"
  }
 },
 "nbformat": 4,
 "nbformat_minor": 2
}
